{
 "cells": [
  {
   "cell_type": "code",
   "execution_count": 3,
   "metadata": {},
   "outputs": [],
   "source": [
    "import joblib\n",
    "import pandas as pd\n",
    "import numpy as np\n",
    "import matplotlib.pyplot as plt\n",
    "import matplotlib.ticker as ticker\n",
    "import matplotlib.cm as cm\n",
    "import matplotlib as mpl\n",
    "\n",
    "from matplotlib.gridspec import GridSpec\n",
    "from sklearn.model_selection import train_test_split\n",
    "from sklearn.metrics import classification_report\n",
    "from collections import Counter\n",
    "\n",
    "\n",
    "algorithm = 'ComplementNB'\n",
    "acc = '76'\n",
    "dataset_dir = 'sentiment140'\n",
    "# dataset_dir = 'imdb'\n",
    "# dataset_dir = 'coronaNLP'\n"
   ]
  },
  {
   "cell_type": "code",
   "execution_count": 16,
   "metadata": {},
   "outputs": [],
   "source": [
    "\n",
    "\n",
    "n_gram = (1, 2)\n",
    "vectorizer_path = f\"./vectors/vectorizer_{dataset_dir}_{n_gram}.pkl\"\n",
    "model_path = f\"./models/{algorithm}_{dataset_dir}_{acc}_{n_gram}.pkl\"\n",
    "df = pd.read_csv(f'./data/war2.csv', delimiter=',')\n",
    "df = df.drop_duplicates()\n",
    "df = df[['tweet', 'sentiment']]\n"
   ]
  },
  {
   "cell_type": "code",
   "execution_count": 17,
   "metadata": {},
   "outputs": [],
   "source": [
    "\n",
    "tfidf = joblib.load(vectorizer_path)\n",
    "model = joblib.load(model_path)\n"
   ]
  },
  {
   "cell_type": "code",
   "execution_count": 18,
   "metadata": {},
   "outputs": [
    {
     "data": {
      "text/plain": [
       "0       @afp how sad is life. when family have to flee...\n",
       "1       latest news about the russia ukraine crisis: m...\n",
       "2       @kyivindependent 3 weeks ago. we tweeted. the ...\n",
       "3       trouble in belarus. #ukraine has released deta...\n",
       "4       the intellectual catastrophe of putin -  the m...\n",
       "                              ...                        \n",
       "5352    @dragonwong2024 russia, get out of ukraine, or...\n",
       "5353    @vanessabeeley @craigmurrayorg @swagmanlawyer ...\n",
       "5354    #russian president vladimir putin on events in...\n",
       "5355    comparing the result of the  conflict of ukrai...\n",
       "5356    at the end of the day,putin's victory in the w...\n",
       "Name: tweet, Length: 5328, dtype: object"
      ]
     },
     "execution_count": 18,
     "metadata": {},
     "output_type": "execute_result"
    }
   ],
   "source": [
    "\n",
    "X = df.tweet.fillna(' ')\n",
    "X"
   ]
  },
  {
   "cell_type": "code",
   "execution_count": 22,
   "metadata": {},
   "outputs": [
    {
     "data": {
      "text/plain": [
       "'the intellectual catastrophe of putin -  the meaning of russia’s war in ukraine is its own national weakness.  https://t.co/b4oirakqd2'"
      ]
     },
     "execution_count": 22,
     "metadata": {},
     "output_type": "execute_result"
    }
   ],
   "source": [
    "X[4]"
   ]
  },
  {
   "cell_type": "code",
   "execution_count": 23,
   "metadata": {},
   "outputs": [
    {
     "data": {
      "text/plain": [
       "<5328x402749 sparse matrix of type '<class 'numpy.float64'>'\n",
       "\twith 69931 stored elements in Compressed Sparse Row format>"
      ]
     },
     "execution_count": 23,
     "metadata": {},
     "output_type": "execute_result"
    }
   ],
   "source": [
    "\n",
    "tweets = X\n",
    "num_of_tweets_analyzed = len(tweets)\n",
    "y_pred = tfidf.transform(X)\n",
    "y_pred"
   ]
  },
  {
   "cell_type": "code",
   "execution_count": 29,
   "metadata": {},
   "outputs": [
    {
     "data": {
      "text/plain": [
       "(1360, 3968)"
      ]
     },
     "execution_count": 29,
     "metadata": {},
     "output_type": "execute_result"
    }
   ],
   "source": [
    "\n",
    "predictions = model.predict(y_pred)\n",
    "len(np.where(predictions==0)[0]), len(np.where(predictions==1)[0])"
   ]
  },
  {
   "cell_type": "code",
   "execution_count": 33,
   "metadata": {},
   "outputs": [
    {
     "data": {
      "image/png": "[encoded data removed]",
      "text/plain": [
       "<Figure size 432x288 with 1 Axes>"
      ]
     },
     "metadata": {},
     "output_type": "display_data"
    }
   ],
   "source": [
    "\n",
    "# saving tweets to csv\n",
    "tweets.to_csv(f'./analysis/tweets-war2.csv')\n",
    "# saving sentiment predictions to csv\n",
    "np.savetxt(f'./analysis/predictions-war2.csv',\n",
    "        predictions, delimiter=',', fmt=('%s'))\n",
    "# adding sentiment column to the beginning\n",
    "df = pd.read_csv(\n",
    "    f'./analysis/predictions-war2.csv', header=None)\n",
    "df.rename(columns={0: 'sentiment'}, inplace=True)\n",
    "# save to new csv file\n",
    "df.to_csv(\n",
    "    f'./analysis/predictions-war2.csv', index=False)\n",
    "# merging tweets and predictions\n",
    "filenames = [f'./analysis/tweets-war2.csv',\n",
    "             f'./analysis/predictions-war2.csv']\n",
    "dfs = []\n",
    "for filename in filenames:\n",
    "    # read the csv, making sure the first two columns are str\n",
    "    df = pd.read_csv(filename, header=None, converters={0: str, 1: str})\n",
    "    # change the column names so they won't collide during concatenation\n",
    "    df.columns = [filename + str(cname) for cname in df.columns]\n",
    "    dfs.append(df)\n",
    "# concatenate them horizontally\n",
    "merged = pd.concat(dfs, axis=1)\n",
    "# write it out\n",
    "merged.to_csv(\n",
    "    f\"./analysis/merged-war2.csv\", header=None, index=None)\n",
    "df = pd.read_csv(f'./analysis/merged-war2.csv')\n",
    "labels = ['negative', 'positive']\n",
    "title_type = df.groupby('sentiment').agg('count')\n",
    "type_labels = ['positive', 'negative']\n",
    "type_counts = title_type.tweet.sort_values()\n",
    "colors = ['g', 'r']\n",
    "plt.subplot(\n",
    "    aspect=1, title=f'Classified {num_of_tweets_analyzed} tweets.')\n",
    "type_show_ids = plt.pie(type_counts, labels=type_labels,\n",
    "                        autopct='%1.1f%%', shadow=True, colors=colors)\n",
    "plt.savefig(f\"./visuals/war2.png\")\n",
    "plt.show()\n"
   ]
  }
 ],
 "metadata": {
  "interpreter": {
   "hash": "599e51aa143538ccec1c7ab4b528efe64565e20e387dbc49eb00bf436cfb223b"
  },
  "kernelspec": {
   "display_name": "Python 3.7.0 64-bit",
   "language": "python",
   "name": "python3"
  },
  "language_info": {
   "codemirror_mode": {
    "name": "ipython",
    "version": 3
   },
   "file_extension": ".py",
   "mimetype": "text/x-python",
   "name": "python",
   "nbconvert_exporter": "python",
   "pygments_lexer": "ipython3",
   "version": "3.7.0"
  },
  "orig_nbformat": 4
 },
 "nbformat": 4,
 "nbformat_minor": 2
}
