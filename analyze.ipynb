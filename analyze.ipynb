{
 "cells": [
  {
   "cell_type": "code",
   "execution_count": 1,
   "metadata": {},
   "outputs": [],
   "source": [
    "import joblib\n",
    "import pandas as pd\n",
    "import numpy as np\n",
    "import matplotlib.pyplot as plt\n",
    "import matplotlib.ticker as ticker\n",
    "import matplotlib.cm as cm\n",
    "import matplotlib as mpl\n",
    "\n",
    "from matplotlib.gridspec import GridSpec\n",
    "from sklearn.model_selection import train_test_split\n",
    "from sklearn.metrics import classification_report\n",
    "from collections import Counter\n",
    "\n",
    "\n",
    "algorithm = 'ComplementNB'\n",
    "acc = '76'\n",
    "dataset_dir = 'sentiment140'\n",
    "# dataset_dir = 'imdb'\n",
    "# dataset_dir = 'coronaNLP'\n"
   ]
  },
  {
   "cell_type": "code",
   "execution_count": 12,
   "metadata": {},
   "outputs": [],
   "source": [
    "\n",
    "\n",
    "n_gram = (1, 2)\n",
    "vectorizer_path = f\"./vectors/vectorizer_{dataset_dir}_{n_gram}.pkl\"\n",
    "model_path = f\"./models/{algorithm}_{dataset_dir}_{acc}_{n_gram}.pkl\"\n",
    "df = pd.read_csv(f'./data/war-russian.csv', delimiter=',')\n",
    "df = df.drop_duplicates()\n",
    "df = df[['translate', 'sentiment']]\n",
    "df['tweet'] = df['translate']"
   ]
  },
  {
   "cell_type": "code",
   "execution_count": 10,
   "metadata": {},
   "outputs": [],
   "source": [
    "\n",
    "tfidf = joblib.load(vectorizer_path)\n",
    "model = joblib.load(model_path)\n"
   ]
  },
  {
   "cell_type": "code",
   "execution_count": 13,
   "metadata": {},
   "outputs": [
    {
     "data": {
      "text/plain": [
       "0      @blacksmithvakul @nadin0127realti How?!How did...\n",
       "1      In the Kyiv region, they continue to find buri...\n",
       "2      @Inforsist output, classic from the war only o...\n",
       "3      Ukraine, Mariupol, Heroic, 29 https://t.co/wbp...\n",
       "4      @Rulbaraka @danidemocracy @zelenskyua @potus U...\n",
       "                             ...                        \n",
       "737    @Vwaldhoffer @pashacap @avakovarsen And what t...\n",
       "738    #Russians #Russia #Ukraine Victory Day of Russ...\n",
       "739    @Dayanat01 And this action received a sacred m...\n",
       "740        Ukraine, we won.Zelensky, I congratulate you.\n",
       "741    @Sercool_Off @the_ins_ru zakra his semicogryz ...\n",
       "Name: tweet, Length: 741, dtype: object"
      ]
     },
     "execution_count": 13,
     "metadata": {},
     "output_type": "execute_result"
    }
   ],
   "source": [
    "\n",
    "X = df.tweet.fillna(' ')\n",
    "X"
   ]
  },
  {
   "cell_type": "code",
   "execution_count": 14,
   "metadata": {},
   "outputs": [
    {
     "data": {
      "text/plain": [
       "'@Rulbaraka @danidemocracy @zelenskyua @potus Ukraine can only smell a hole near the ass and then if Russia wants it'"
      ]
     },
     "execution_count": 14,
     "metadata": {},
     "output_type": "execute_result"
    }
   ],
   "source": [
    "X[4]"
   ]
  },
  {
   "cell_type": "code",
   "execution_count": 15,
   "metadata": {},
   "outputs": [
    {
     "data": {
      "text/plain": [
       "<741x402749 sparse matrix of type '<class 'numpy.float64'>'\n",
       "\twith 5748 stored elements in Compressed Sparse Row format>"
      ]
     },
     "execution_count": 15,
     "metadata": {},
     "output_type": "execute_result"
    }
   ],
   "source": [
    "\n",
    "tweets = X\n",
    "num_of_tweets_analyzed = len(tweets)\n",
    "y_pred = tfidf.transform(X)\n",
    "y_pred"
   ]
  },
  {
   "cell_type": "code",
   "execution_count": 16,
   "metadata": {},
   "outputs": [
    {
     "data": {
      "text/plain": [
       "(368, 373)"
      ]
     },
     "execution_count": 16,
     "metadata": {},
     "output_type": "execute_result"
    }
   ],
   "source": [
    "\n",
    "predictions = model.predict(y_pred)\n",
    "len(np.where(predictions==0)[0]), len(np.where(predictions==1)[0])"
   ]
  },
  {
   "cell_type": "code",
   "execution_count": 17,
   "metadata": {},
   "outputs": [
    {
     "data": {
      "image/png": "[encoded data removed]",
      "text/plain": [
       "<Figure size 432x288 with 1 Axes>"
      ]
     },
     "metadata": {},
     "output_type": "display_data"
    }
   ],
   "source": [
    "\n",
    "# saving tweets to csv\n",
    "tweets.to_csv(f'./analysis/tweets-war2.csv')\n",
    "# saving sentiment predictions to csv\n",
    "np.savetxt(f'./analysis/predictions-war2.csv',\n",
    "        predictions, delimiter=',', fmt=('%s'))\n",
    "# adding sentiment column to the beginning\n",
    "df = pd.read_csv(\n",
    "    f'./analysis/predictions-war2.csv', header=None)\n",
    "df.rename(columns={0: 'sentiment'}, inplace=True)\n",
    "# save to new csv file\n",
    "df.to_csv(\n",
    "    f'./analysis/predictions-war2.csv', index=False)\n",
    "# merging tweets and predictions\n",
    "filenames = [f'./analysis/tweets-war2.csv',\n",
    "             f'./analysis/predictions-war2.csv']\n",
    "dfs = []\n",
    "for filename in filenames:\n",
    "    # read the csv, making sure the first two columns are str\n",
    "    df = pd.read_csv(filename, header=None, converters={0: str, 1: str})\n",
    "    # change the column names so they won't collide during concatenation\n",
    "    df.columns = [filename + str(cname) for cname in df.columns]\n",
    "    dfs.append(df)\n",
    "# concatenate them horizontally\n",
    "merged = pd.concat(dfs, axis=1)\n",
    "# write it out\n",
    "merged.to_csv(\n",
    "    f\"./analysis/merged-war2.csv\", header=None, index=None)\n",
    "df = pd.read_csv(f'./analysis/merged-war2.csv')\n",
    "labels = ['negative', 'positive']\n",
    "title_type = df.groupby('sentiment').agg('count')\n",
    "type_labels = ['positive', 'negative']\n",
    "type_counts = title_type.tweet.sort_values()\n",
    "colors = ['g', 'r']\n",
    "plt.subplot(\n",
    "    aspect=1, title=f'Classified {num_of_tweets_analyzed} tweets.')\n",
    "type_show_ids = plt.pie(type_counts, labels=type_labels,\n",
    "                        autopct='%1.1f%%', shadow=True, colors=colors)\n",
    "plt.savefig(f\"./visuals/war2.png\")\n",
    "plt.show()\n"
   ]
  }
 ],
 "metadata": {
  "interpreter": {
   "hash": "f595b24bd0005ade19c9cc9195ebfd43399e9f8b470abdede700a27b5c9ee90b"
  },
  "kernelspec": {
   "display_name": "Python 3.7.0 64-bit",
   "language": "python",
   "name": "python3"
  },
  "language_info": {
   "codemirror_mode": {
    "name": "ipython",
    "version": 3
   },
   "file_extension": ".py",
   "mimetype": "text/x-python",
   "name": "python",
   "nbconvert_exporter": "python",
   "pygments_lexer": "ipython3",
   "version": "3.7.0"
  },
  "orig_nbformat": 4
 },
 "nbformat": 4,
 "nbformat_minor": 2
}
