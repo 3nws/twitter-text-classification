{
 "cells": [
  {
   "cell_type": "code",
   "execution_count": 30,
   "metadata": {},
   "outputs": [],
   "source": [
    "import joblib\n",
    "import pandas as pd\n",
    "import numpy as np\n",
    "import matplotlib.pyplot as plt\n",
    "import matplotlib.ticker as ticker\n",
    "import matplotlib.cm as cm\n",
    "import matplotlib as mpl\n",
    "\n",
    "from matplotlib.gridspec import GridSpec\n",
    "from sklearn.model_selection import train_test_split\n",
    "from sklearn.metrics import classification_report\n",
    "from collections import Counter\n"
   ]
  },
  {
   "cell_type": "code",
   "execution_count": 31,
   "metadata": {},
   "outputs": [],
   "source": [
    "\n",
    "algorithm = 'mnb'\n",
    "acc = '88'\n",
    "\n",
    "year = \"2022\"\n",
    "month = \"february\"\n",
    "\n",
    "# dataset_dir = 'sentiment140'\n",
    "dataset_dir = 'imdb'\n",
    "# dataset_dir = 'coronaNLP'\n",
    "\n",
    "max_f = 50\n",
    "# max_f = 30\n",
    "# max_f = 20\n",
    "\n",
    "# n_gram = (1, 1)\n",
    "# n_gram = (1, 2)\n",
    "n_gram = (2, 2)\n",
    "\n",
    "max_f_str = str(max_f) + 'k'\n"
   ]
  },
  {
   "cell_type": "code",
   "execution_count": 32,
   "metadata": {},
   "outputs": [
    {
     "data": {
      "text/plain": [
       "(TfidfVectorizer(max_features=50000, ngram_range=(2, 2),\n",
       "                 tokenizer=<bound method RegexpTokenizer.tokenize of RegexpTokenizer(pattern='[a-zA-Z0-9]+', gaps=False, discard_empty=True, flags=<RegexFlag.UNICODE|DOTALL|MULTILINE: 56>)>),\n",
       " Pipeline(steps=[('clf', MultinomialNB(alpha=1, fit_prior=False))]))"
      ]
     },
     "execution_count": 32,
     "metadata": {},
     "output_type": "execute_result"
    }
   ],
   "source": [
    "\n",
    "vectorizer_path = f\"./vectors/vectorizer_{max_f_str}_{dataset_dir}_{n_gram}.pkl\"\n",
    "\n",
    "model_path = f\"./models/{algorithm.lower()}_{dataset_dir}_{acc}.pkl\"\n",
    "\n",
    "# already processed\n",
    "df = pd.read_csv(f'./{year}-data/covid-{month}.csv', delimiter=',')\n",
    "\n",
    "df = df.drop_duplicates()\n",
    "\n",
    "df = df[['tweet', 'sentiment']]\n",
    "\n",
    "tfidf = joblib.load(vectorizer_path)\n",
    "\n",
    "model = joblib.load(model_path)\n",
    "\n",
    "tfidf, model"
   ]
  },
  {
   "cell_type": "code",
   "execution_count": 33,
   "metadata": {},
   "outputs": [],
   "source": [
    "\n",
    "X = df.iloc[:, 0].fillna(' ')\n",
    "\n",
    "tweets = X\n",
    "\n",
    "num_of_tweets_analyzed = len(tweets)"
   ]
  },
  {
   "cell_type": "code",
   "execution_count": 34,
   "metadata": {},
   "outputs": [],
   "source": [
    "\n",
    "y_pred = tfidf.transform(X)\n"
   ]
  },
  {
   "cell_type": "code",
   "execution_count": 35,
   "metadata": {},
   "outputs": [],
   "source": [
    "\n",
    "predictions = model.predict(y_pred)\n"
   ]
  },
  {
   "cell_type": "code",
   "execution_count": 36,
   "metadata": {},
   "outputs": [
    {
     "data": {
      "image/png": "[encoded data removed]",
      "text/plain": [
       "<Figure size 432x288 with 1 Axes>"
      ]
     },
     "metadata": {},
     "output_type": "display_data"
    }
   ],
   "source": [
    "\n",
    "# saving tweets to csv\n",
    "tweets.to_csv(f'./analysis/tweets-{month}-{year}.csv')\n",
    "# saving sentiment predictions to csv\n",
    "np.savetxt(f'./analysis/predictions-{month}-{year}.csv',\n",
    "           predictions, delimiter=',', fmt=('%s'))\n",
    "\n",
    "# adding sentiment column to the beginning\n",
    "df = pd.read_csv(f'./analysis/predictions-{month}-{year}.csv', header=None)\n",
    "df.rename(columns={0: 'sentiment'}, inplace=True)\n",
    "# save to new csv file\n",
    "df.to_csv(f'./analysis/predictions-{month}-{year}.csv', index=False)\n",
    "\n",
    "# merging tweets and predictions\n",
    "filenames = [f'./analysis/tweets-{month}-{year}.csv',\n",
    "             f'./analysis/predictions-{month}-{year}.csv']\n",
    "dfs = []\n",
    "for filename in filenames:\n",
    "    # read the csv, making sure the first two columns are str\n",
    "    df = pd.read_csv(filename, header=None, converters={0: str, 1: str})\n",
    "    # change the column names so they won't collide during concatenation\n",
    "    df.columns = [filename + str(cname) for cname in df.columns]\n",
    "    dfs.append(df)\n",
    "\n",
    "# concatenate them horizontally\n",
    "merged = pd.concat(dfs, axis=1)\n",
    "# write it out\n",
    "merged.to_csv(f\"./analysis/merged-{month}-{year}.csv\", header=None, index=None)\n",
    "\n",
    "df = pd.read_csv(f'./analysis/merged-{month}-{year}.csv')\n",
    "\n",
    "labels = ['negative', 'positive']\n",
    "\n",
    "title_type = df.groupby('sentiment').agg('count')\n",
    "\n",
    "type_labels = ['positive', 'negative']\n",
    "type_counts = title_type.tweet.sort_values()\n",
    "\n",
    "colors = ['g', 'r']\n",
    "\n",
    "plt.subplot(\n",
    "    aspect=1, title=f'Percentage of tweets pro or against vaccination in {month.capitalize()} {year}\\nClassified {num_of_tweets_analyzed} tweets.')\n",
    "type_show_ids = plt.pie(type_counts, labels=type_labels,\n",
    "                        autopct='%1.1f%%', shadow=True, colors=colors)\n",
    "plt.show()\n"
   ]
  }
 ],
 "metadata": {
  "interpreter": {
   "hash": "599e51aa143538ccec1c7ab4b528efe64565e20e387dbc49eb00bf436cfb223b"
  },
  "kernelspec": {
   "display_name": "Python 3.7.0 64-bit",
   "language": "python",
   "name": "python3"
  },
  "language_info": {
   "codemirror_mode": {
    "name": "ipython",
    "version": 3
   },
   "file_extension": ".py",
   "mimetype": "text/x-python",
   "name": "python",
   "nbconvert_exporter": "python",
   "pygments_lexer": "ipython3",
   "version": "3.7.0"
  },
  "orig_nbformat": 4
 },
 "nbformat": 4,
 "nbformat_minor": 2
}
