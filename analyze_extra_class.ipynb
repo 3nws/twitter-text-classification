{
 "cells": [
  {
   "cell_type": "code",
   "execution_count": 37,
   "metadata": {},
   "outputs": [],
   "source": [
    "import pickle\n",
    "import pandas as pd\n",
    "import numpy as np\n",
    "import matplotlib.pyplot as plt\n",
    "import matplotlib.ticker as ticker\n",
    "import matplotlib.cm as cm\n",
    "import matplotlib as mpl\n",
    "\n",
    "from matplotlib.gridspec import GridSpec\n",
    "from nltk.tokenize import TweetTokenizer, RegexpTokenizer\n",
    "from sklearn.feature_extraction.text import TfidfVectorizer\n",
    "from sklearn.model_selection import train_test_split\n",
    "from sklearn.metrics import classification_report\n",
    "from collections import Counter\n",
    "\n",
    "algorithm = 'mnb'\n",
    "acc = ''\n",
    "file_name = './models/'+algorithm.upper()+'_model_'+acc\n",
    "\n",
    "year = \"2021\"\n",
    "month = \"november\"\n",
    "dataset = pd.read_csv(f'./{year}-data/covid-{month}.csv', delimiter=',')\n"
   ]
  },
  {
   "cell_type": "code",
   "execution_count": 38,
   "metadata": {},
   "outputs": [],
   "source": [
    "\n",
    "# removing the unnecessary columns.\n",
    "dataset = dataset[['sentiment','tweet']]\n",
    "\n",
    "with open(file_name, 'rb') as f:\n",
    "    model = pickle.load(f)\n",
    "\n",
    "token = RegexpTokenizer(r'[a-zA-Z0-9]+')\n",
    "\n",
    "tfidf = pickle.load(open(f\"./vector/tfidf_{algorithm}_{acc}\",\"rb\"))\n",
    "\n",
    "X = dataset['tweet'].fillna(' ')\n",
    "\n",
    "tweets = X\n",
    "\n",
    "y_pred = tfidf.transform(X)\n"
   ]
  },
  {
   "cell_type": "code",
   "execution_count": 39,
   "metadata": {},
   "outputs": [
    {
     "name": "stdout",
     "output_type": "stream",
     "text": [
      "<class 'numpy.ndarray'>\n",
      "[[0.62598099 0.37401901]\n",
      " [0.32331803 0.67668197]\n",
      " [0.66716703 0.33283297]\n",
      " ...\n",
      " [0.37316343 0.62683657]\n",
      " [0.32331803 0.67668197]\n",
      " [0.56725053 0.43274947]]\n"
     ]
    }
   ],
   "source": [
    "\n",
    "predictions = model.predict(y_pred)\n",
    "\n",
    "print(type(predictions))\n",
    "print(model.predict_proba(y_pred))"
   ]
  },
  {
   "cell_type": "code",
   "execution_count": 40,
   "metadata": {},
   "outputs": [
    {
     "name": "stdout",
     "output_type": "stream",
     "text": [
      "<class 'numpy.ndarray'>\n"
     ]
    }
   ],
   "source": [
    "altered_predictions = []\n",
    "\n",
    "for prediction in model.predict_proba(y_pred):\n",
    "    pos_sentiment = float(prediction[1])\n",
    "    if pos_sentiment > 0.45 and pos_sentiment < 0.55:\n",
    "        altered_predictions.append('neutral')\n",
    "    elif pos_sentiment > 0.55:\n",
    "        altered_predictions.append('positive')\n",
    "    else:\n",
    "        altered_predictions.append('negative')\n",
    "        \n",
    "# print(altered_predictions)\n",
    "test = np.array([[x] for x in altered_predictions])\n",
    "print(type(test))"
   ]
  },
  {
   "cell_type": "code",
   "execution_count": 41,
   "metadata": {},
   "outputs": [],
   "source": [
    "\n",
    "# saving tweets to csv\n",
    "tweets.to_csv(f'./analysis/tweets-{month}-{year}.csv')\n",
    "# saving sentiment predictions to csv\n",
    "np.savetxt(f'./analysis/predictions-{month}-{year}.csv',altered_predictions, delimiter=',', fmt=('%s'))\n",
    "\n",
    "DATASET_COLUMNS  = [\"sentiment\"]\n",
    "\n",
    "# adding sentiment column to the beginning\n",
    "df = pd.read_csv(f'./analysis/predictions-{month}-{year}.csv', header=None)\n",
    "df.rename(columns={0: 'sentiment'}, inplace=True)\n",
    "df.to_csv(f'./analysis/predictions-{month}-{year}.csv', index=False) # save to new csv file\n"
   ]
  },
  {
   "cell_type": "code",
   "execution_count": 42,
   "metadata": {},
   "outputs": [],
   "source": [
    "\n",
    "# merging tweets and predictions\n",
    "filenames = [f'./analysis/tweets-{month}-{year}.csv', f'./analysis/predictions-{month}-{year}.csv']\n",
    "dfs = []\n",
    "for filename in filenames:\n",
    "    # read the csv, making sure the first two columns are str\n",
    "    df = pd.read_csv(filename, header=None, converters={0: str, 1: str})\n",
    "    # change the column names so they won't collide during concatenation\n",
    "    df.columns = [filename + str(cname) for cname in df.columns]\n",
    "    dfs.append(df)\n",
    "\n",
    "# concatenate them horizontally\n",
    "merged = pd.concat(dfs,axis=1)\n",
    "# write it out\n",
    "merged.to_csv(f\"./analysis/merged-{month}-{year}.csv\", header=None, index=None)\n"
   ]
  },
  {
   "cell_type": "code",
   "execution_count": 45,
   "metadata": {},
   "outputs": [
    {
     "data": {
      "image/png": "[encoded data removed]",
      "text/plain": [
       "<Figure size 432x288 with 1 Axes>"
      ]
     },
     "metadata": {},
     "output_type": "display_data"
    }
   ],
   "source": [
    "\n",
    "df = pd.read_csv(f'./analysis/merged-{month}-{year}.csv')\n",
    "\n",
    "labels = ['negative', 'neutral', 'positive']\n",
    "\n",
    "title_type = df.groupby('sentiment').agg('count')\n",
    "\n",
    "type_labels = ['neutral', 'positive', 'negative']\n",
    "type_counts = title_type.tweet.sort_values()\n",
    "\n",
    "colors = ['grey', 'g', 'r']\n",
    "\n",
    "plt.subplot(aspect=1, title=f'Percentage of tweets pro or against vaccination in {month.capitalize()} {year}')\n",
    "type_show_ids = plt.pie(type_counts, labels=type_labels, autopct='%1.1f%%', shadow=True, colors=colors)\n",
    "plt.show()\n"
   ]
  }
 ],
 "metadata": {
  "interpreter": {
   "hash": "599e51aa143538ccec1c7ab4b528efe64565e20e387dbc49eb00bf436cfb223b"
  },
  "kernelspec": {
   "display_name": "Python 3.7.0 64-bit",
   "language": "python",
   "name": "python3"
  },
  "language_info": {
   "codemirror_mode": {
    "name": "ipython",
    "version": 3
   },
   "file_extension": ".py",
   "mimetype": "text/x-python",
   "name": "python",
   "nbconvert_exporter": "python",
   "pygments_lexer": "ipython3",
   "version": "3.7.0"
  },
  "orig_nbformat": 4
 },
 "nbformat": 4,
 "nbformat_minor": 2
}
