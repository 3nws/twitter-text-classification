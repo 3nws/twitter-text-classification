{
 "cells": [
  {
   "cell_type": "code",
   "execution_count": null,
   "metadata": {},
   "outputs": [],
   "source": [
    "from wordcloud import WordCloud\n",
    "\n",
    "import seaborn as sns\n",
    "import matplotlib.pyplot as plt\n",
    "import pandas as pd\n",
    "import joblib\n",
    "import numpy as np\n"
   ]
  },
  {
   "cell_type": "code",
   "execution_count": null,
   "metadata": {},
   "outputs": [],
   "source": [
    "# dataset_dir = 'sentiment140'\n",
    "# dataset_dir = 'imdb'\n",
    "dataset_dir = 'coronaNLP'\n",
    "\n",
    "# n_gram = (1, 1)\n",
    "# n_gram = (1, 2)\n",
    "n_gram = (2, 2)\n",
    "\n",
    "# importing the processed dataframe\n",
    "df = joblib.load(f'./dataframes/df_{dataset_dir}.pkl')\n",
    "\n",
    "df.head()\n"
   ]
  },
  {
   "cell_type": "code",
   "execution_count": null,
   "metadata": {},
   "outputs": [],
   "source": [
    "\n",
    "X = df.iloc[:, 0]\n",
    "\n",
    "\n",
    "y = df.iloc[:, 1]\n",
    "\n",
    "X, y\n"
   ]
  },
  {
   "cell_type": "code",
   "execution_count": null,
   "metadata": {},
   "outputs": [],
   "source": [
    "sns.countplot(y)\n"
   ]
  },
  {
   "cell_type": "code",
   "execution_count": null,
   "metadata": {},
   "outputs": [],
   "source": [
    "plt.figure(figsize=(15, 15))\n",
    "options = [1, 2]\n",
    "cond = df.iloc[:, 1].isin(options)\n",
    "result = df[cond].iloc[:, 0].values\n",
    "wc = WordCloud(max_words=2000, width=1600,\n",
    "               height=800).generate(\" \".join(result))\n",
    "plt.imshow(wc, interpolation='bilinear')\n",
    "plt.title('Positive words cloud')\n"
   ]
  },
  {
   "cell_type": "code",
   "execution_count": null,
   "metadata": {},
   "outputs": [],
   "source": [
    "if dataset_dir == 'coronaNLP':\n",
    "    plt.figure(figsize=(15, 15))\n",
    "    options = [0]\n",
    "    cond = df.iloc[:, 1].isin(options)\n",
    "    result = df[cond].iloc[:, 0].values\n",
    "    wc = WordCloud(max_words=2000, width=1600,\n",
    "                   height=800).generate(\" \".join(result))\n",
    "    plt.imshow(wc, interpolation='bilinear')\n",
    "    plt.title('Neutral words cloud')\n"
   ]
  },
  {
   "cell_type": "code",
   "execution_count": null,
   "metadata": {},
   "outputs": [],
   "source": [
    "if dataset_dir == 'imdb' or dataset_dir == 'sentiment140':\n",
    "    options = [0]\n",
    "else:\n",
    "    options = [-1, -2]\n",
    "\n",
    "plt.figure(figsize=(15, 15))\n",
    "cond = df.iloc[:, 1].isin(options)\n",
    "result = df[cond].iloc[:, 0].values\n",
    "wc = WordCloud(max_words=2000, width=1600,\n",
    "               height=800).generate(\" \".join(result))\n",
    "plt.imshow(wc, interpolation='bilinear')\n",
    "plt.title('Negative words cloud')\n"
   ]
  }
 ],
 "metadata": {
  "language_info": {
   "name": "python"
  },
  "orig_nbformat": 4
 },
 "nbformat": 4,
 "nbformat_minor": 2
}
