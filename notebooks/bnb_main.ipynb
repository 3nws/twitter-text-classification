{
 "cells": [
  {
   "cell_type": "code",
   "execution_count": 10,
   "metadata": {},
   "outputs": [],
   "source": [
    "from nltk.tokenize import RegexpTokenizer\n",
    "from sklearn.model_selection import train_test_split\n",
    "from sklearn.naive_bayes import BernoulliNB\n",
    "from sklearn.metrics import classification_report\n",
    "from sklearn.model_selection import GridSearchCV\n",
    "from sklearn.pipeline import Pipeline\n",
    "from sklearn.metrics import confusion_matrix\n",
    "from sklearn.metrics import accuracy_score\n",
    "\n",
    "import re\n",
    "import pandas as pd\n",
    "import joblib\n",
    "\n",
    "dataset_dir = \"imdb\"\n",
    "# dataset_dir = \"sentiment140\"\n",
    "# dataset_dir = \"coronaNLP\"\n",
    "\n",
    "# n_gram = (1, 1)\n",
    "n_gram = (1, 2)\n",
    "# n_gram = (2, 2)\n",
    "\n",
    "# importing the processed dataframe\n",
    "df = joblib.load(f'../dataframes/df_{dataset_dir}.pkl')\n"
   ]
  },
  {
   "cell_type": "code",
   "execution_count": 11,
   "metadata": {},
   "outputs": [],
   "source": [
    "\n",
    "tfidf = joblib.load(f'../vectors/vectorizer_{dataset_dir}_{n_gram}.pkl')\n"
   ]
  },
  {
   "cell_type": "code",
   "execution_count": 12,
   "metadata": {},
   "outputs": [],
   "source": [
    "\n",
    "\n",
    "X = df.iloc[:, 0]\n",
    "\n",
    "X = tfidf.transform(X)\n",
    "\n",
    "y = df.iloc[:, 1]\n",
    "\n",
    "X_train, X_test, y_train, y_test = train_test_split(\n",
    "    X, y, test_size=0.2, random_state=42)\n"
   ]
  },
  {
   "cell_type": "code",
   "execution_count": 17,
   "metadata": {},
   "outputs": [
    {
     "data": {
      "text/plain": [
       "<49582x143417 sparse matrix of type '<class 'numpy.float64'>'\n",
       "\twith 7196211 stored elements in Compressed Sparse Row format>"
      ]
     },
     "execution_count": 17,
     "metadata": {},
     "output_type": "execute_result"
    }
   ],
   "source": [
    "X"
   ]
  },
  {
   "cell_type": "code",
   "execution_count": 13,
   "metadata": {},
   "outputs": [],
   "source": [
    "\n",
    "# creating our pipeline that will return an estimator\n",
    "pipeline = Pipeline([('clf', BernoulliNB())])\n",
    "\n",
    "parameters = {\n",
    "    'clf__fit_prior': (False, True),\n",
    "    # 'clf__binarize': (0.25, 0.5, 1.0),\n",
    "    'clf__alpha': (1, 0.1, 0.01, 0.001)\n",
    "}\n",
    "\n",
    "clf = GridSearchCV(pipeline, param_grid=parameters, cv=5, verbose=1)\n"
   ]
  },
  {
   "cell_type": "code",
   "execution_count": 14,
   "metadata": {},
   "outputs": [
    {
     "name": "stdout",
     "output_type": "stream",
     "text": [
      "Fitting 5 folds for each of 8 candidates, totalling 40 fits\n"
     ]
    },
    {
     "data": {
      "text/plain": [
       "GridSearchCV(cv=5, estimator=Pipeline(steps=[('clf', BernoulliNB())]),\n",
       "             param_grid={'clf__alpha': (1, 0.1, 0.01, 0.001),\n",
       "                         'clf__fit_prior': (False, True)},\n",
       "             verbose=1)"
      ]
     },
     "execution_count": 14,
     "metadata": {},
     "output_type": "execute_result"
    }
   ],
   "source": [
    "\n",
    "clf.fit(X_train, y_train)\n"
   ]
  },
  {
   "cell_type": "code",
   "execution_count": 15,
   "metadata": {},
   "outputs": [
    {
     "name": "stdout",
     "output_type": "stream",
     "text": [
      "              precision    recall  f1-score   support\n",
      "\n",
      "           0       0.89      0.86      0.88      4939\n",
      "           1       0.87      0.90      0.88      4978\n",
      "\n",
      "    accuracy                           0.88      9917\n",
      "   macro avg       0.88      0.88      0.88      9917\n",
      "weighted avg       0.88      0.88      0.88      9917\n",
      "\n",
      "[[4258  681]\n",
      " [ 503 4475]]\n",
      "Best: 0.884886 using {'clf__alpha': 1, 'clf__fit_prior': True}\n",
      "0.884886 (0.001249) with: {'clf__alpha': 1, 'clf__fit_prior': False}\n",
      "0.884886 (0.001239) with: {'clf__alpha': 1, 'clf__fit_prior': True}\n",
      "0.883499 (0.002523) with: {'clf__alpha': 0.1, 'clf__fit_prior': False}\n",
      "0.883499 (0.002523) with: {'clf__alpha': 0.1, 'clf__fit_prior': True}\n",
      "0.879289 (0.002287) with: {'clf__alpha': 0.01, 'clf__fit_prior': False}\n",
      "0.879289 (0.002225) with: {'clf__alpha': 0.01, 'clf__fit_prior': True}\n",
      "0.872432 (0.002031) with: {'clf__alpha': 0.001, 'clf__fit_prior': False}\n",
      "0.872432 (0.002031) with: {'clf__alpha': 0.001, 'clf__fit_prior': True}\n"
     ]
    }
   ],
   "source": [
    "\n",
    "y_pred = clf.predict(X_test)\n",
    "\n",
    "print(classification_report(y_test, y_pred))\n",
    "\n",
    "print(confusion_matrix(y_test, y_pred))\n",
    "\n",
    "print(\"Best: %f using %s\" % (clf.best_score_,\n",
    "                             clf.best_params_))\n",
    "means = clf.cv_results_['mean_test_score']\n",
    "stds = clf.cv_results_['std_test_score']\n",
    "params = clf.cv_results_['params']\n",
    "for mean, stdev, param in zip(means, stds, params):\n",
    "    print(\"%f (%f) with: %r\" % (mean, stdev, param))\n",
    "\n",
    "\n",
    "acc = int(accuracy_score(y_test, y_pred)*100)\n"
   ]
  },
  {
   "cell_type": "code",
   "execution_count": 16,
   "metadata": {},
   "outputs": [],
   "source": [
    "\n",
    "# exporting the model\n",
    "joblib.dump(clf.best_estimator_, open(f'../models/bnb_{dataset_dir}_{acc}', 'wb'))\n"
   ]
  }
 ],
 "metadata": {
  "interpreter": {
   "hash": "599e51aa143538ccec1c7ab4b528efe64565e20e387dbc49eb00bf436cfb223b"
  },
  "kernelspec": {
   "display_name": "Python 3.7.0 64-bit",
   "language": "python",
   "name": "python3"
  },
  "language_info": {
   "codemirror_mode": {
    "name": "ipython",
    "version": 3
   },
   "file_extension": ".py",
   "mimetype": "text/x-python",
   "name": "python",
   "nbconvert_exporter": "python",
   "pygments_lexer": "ipython3",
   "version": "3.7.0"
  },
  "orig_nbformat": 4
 },
 "nbformat": 4,
 "nbformat_minor": 2
}
