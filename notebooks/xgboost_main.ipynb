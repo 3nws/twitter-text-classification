{
 "cells": [
  {
   "cell_type": "code",
   "execution_count": null,
   "metadata": {},
   "outputs": [],
   "source": [
    "from sklearn.model_selection import train_test_split\n",
    "from sklearn.metrics import classification_report\n",
    "from sklearn.model_selection import GridSearchCV, RandomizedSearchCV\n",
    "from sklearn.pipeline import Pipeline\n",
    "from sklearn.metrics import confusion_matrix\n",
    "from sklearn.metrics import accuracy_score\n",
    "\n",
    "import matplotlib.pyplot as plt\n",
    "import re\n",
    "import pandas as pd\n",
    "import joblib\n",
    "import numpy as np\n",
    "import xgboost as xgb\n",
    "\n",
    "xgb.set_config(verbosity=1, use_rmm=True)"
   ]
  },
  {
   "cell_type": "code",
   "execution_count": null,
   "metadata": {},
   "outputs": [],
   "source": [
    "\n",
    "# dataset_dir = 'sentiment140'\n",
    "dataset_dir = 'imdb'\n",
    "# dataset_dir = 'coronaNLP'\n",
    "\n",
    "n_gram = (1, 1)\n",
    "# n_gram = (1, 2)\n",
    "# n_gram = (2, 2)\n",
    "\n",
    "# importing the processed dataframe\n",
    "df = joblib.load(f'../dataframes/df_{dataset_dir}.pkl')\n",
    "\n",
    "df.head()\n"
   ]
  },
  {
   "cell_type": "code",
   "execution_count": null,
   "metadata": {},
   "outputs": [],
   "source": [
    "\n",
    "\n",
    "X = df.iloc[:, 0]\n",
    "\n",
    "\n",
    "y = df.iloc[:, 1]\n",
    "\n",
    "X, y\n"
   ]
  },
  {
   "cell_type": "code",
   "execution_count": null,
   "metadata": {},
   "outputs": [],
   "source": [
    "\n",
    "tfidf = joblib.load(\n",
    "    f\"../vectors/vectorizer_{dataset_dir}_{n_gram}.pkl\")\n",
    "tfidf\n"
   ]
  },
  {
   "cell_type": "code",
   "execution_count": null,
   "metadata": {},
   "outputs": [],
   "source": [
    "tfidf.vocabulary_, tfidf.idf_\n"
   ]
  },
  {
   "cell_type": "code",
   "execution_count": null,
   "metadata": {},
   "outputs": [],
   "source": [
    "X = tfidf.transform(X)\n",
    "\n",
    "X_train, X_test, y_train, y_test = train_test_split(\n",
    "    X, y, test_size=0.2, random_state=42)\n",
    "\n",
    "X_train.shape, y_train.shape\n"
   ]
  },
  {
   "cell_type": "code",
   "execution_count": null,
   "metadata": {},
   "outputs": [],
   "source": [
    "# creating our pipeline that will return an estimator\n",
    "pipeline = Pipeline(\n",
    "    [('clf', xgb.XGBClassifier(max_depth=50, use_label_encoder=False))])\n",
    "\n",
    "# xg = xgb.XGBClassifier(use_label_encoder=False) \n",
    "# xg"
   ]
  },
  {
   "cell_type": "code",
   "execution_count": null,
   "metadata": {},
   "outputs": [],
   "source": [
    "\n",
    "parameters = {\n",
    "    'clf__booster': ('gbtree', 'gblinear', 'dart'),\n",
    "    'clf__eta': (0.1, 0,25, 0.4, 0.5),\n",
    "    }\n",
    "\n",
    "# params = {\n",
    "#           'booster': ['gbtree', 'gblinear', 'dart'],\n",
    "#           'max_depth': [3, 6, 10, 15],\n",
    "#           'eta': [0.01, 0.1, 0.2, 0.3, 0.4, 0.5],\n",
    "#           'subsample': np.arange(0.5, 1.0, 0.1),\n",
    "#           'colsample_bytree': np.arange(0.5, 1.0, 0.1),\n",
    "#           'colsample_bylevel': np.arange(0.5, 1.0, 0.1),\n",
    "#           'n_estimators': [100, 250, 500, 750],\n",
    "#           }\n",
    "\n",
    "clf = GridSearchCV(pipeline, param_grid=parameters,\n",
    "                   scoring='accuracy', cv=5, verbose=1)\n",
    "\n",
    "# clf = RandomizedSearchCV(xg, param_distributions=params,\n",
    "#                          scoring='accuracy',\n",
    "#                          n_iter=25,\n",
    "#                          verbose=1)\n",
    "clf\n"
   ]
  },
  {
   "cell_type": "code",
   "execution_count": null,
   "metadata": {},
   "outputs": [],
   "source": [
    "\n",
    "clf = clf.fit(X_train, y_train)\n"
   ]
  },
  {
   "cell_type": "code",
   "execution_count": null,
   "metadata": {},
   "outputs": [],
   "source": [
    "\n",
    "\n",
    "y_pred = clf.predict(X_test)\n",
    "\n",
    "print(classification_report(y_test, y_pred))\n",
    "\n"
   ]
  },
  {
   "cell_type": "code",
   "execution_count": null,
   "metadata": {},
   "outputs": [],
   "source": [
    "\n",
    "\n",
    "print(\"Best: %f using %s\" % (clf.best_score_, \n",
    "    clf.best_params_))\n",
    "means = clf.cv_results_['mean_test_score']\n",
    "stds = clf.cv_results_['std_test_score']\n",
    "params = clf.cv_results_['params']\n",
    "for mean, stdev, param in zip(means, stds, params):\n",
    "    print(\"%f (%f) with: %r\" % (mean, stdev, param))\n"
   ]
  },
  {
   "cell_type": "code",
   "execution_count": null,
   "metadata": {},
   "outputs": [],
   "source": [
    "\n",
    "\n",
    "\n",
    "\n",
    "from sklearn.metrics import confusion_matrix\n",
    "\n",
    "print(confusion_matrix(y_test, y_pred))\n",
    "\n",
    "acc = int(accuracy_score(y_test, y_pred)*100)\n",
    "\n"
   ]
  },
  {
   "cell_type": "code",
   "execution_count": null,
   "metadata": {},
   "outputs": [],
   "source": [
    "\n",
    "\n",
    "test_tweet = \"groceri store\"\n",
    "vector = tfidf.transform([test_tweet])\n",
    "\n",
    "print(clf.predict(vector))\n",
    "\n"
   ]
  },
  {
   "cell_type": "code",
   "execution_count": null,
   "metadata": {},
   "outputs": [],
   "source": [
    "\n",
    "\n",
    "\n",
    "# exporting the pipeline\n",
    "joblib.dump(clf.best_estimator_, f'../models/xgb_{dataset_dir}_{acc}_{n_gram}.pkl')\n",
    "\n",
    "\n"
   ]
  }
 ],
 "metadata": {
  "interpreter": {
   "hash": "810a07360e162297968a949d147453ebf81e378dc6cc6f42a8012a239cc8822a"
  },
  "kernelspec": {
   "display_name": "Python 3.7.2 32-bit",
   "language": "python",
   "name": "python3"
  },
  "language_info": {
   "codemirror_mode": {
    "name": "ipython",
    "version": 3
   },
   "file_extension": ".py",
   "mimetype": "text/x-python",
   "name": "python",
   "nbconvert_exporter": "python",
   "pygments_lexer": "ipython3",
   "version": "3.7.0"
  },
  "orig_nbformat": 4
 },
 "nbformat": 4,
 "nbformat_minor": 2
}
