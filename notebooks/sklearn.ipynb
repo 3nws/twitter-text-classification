{
 "cells": [
  {
   "cell_type": "code",
   "execution_count": null,
   "metadata": {},
   "outputs": [],
   "source": [
    "from sklearn.model_selection import train_test_split\n",
    "from sklearn.naive_bayes import MultinomialNB, BernoulliNB\n",
    "from sklearn.linear_model import LogisticRegression\n",
    "from sklearn.svm import SVC\n",
    "from sklearn.ensemble import VotingClassifier\n",
    "from sklearn.metrics import classification_report\n",
    "from sklearn.model_selection import GridSearchCV, RandomizedSearchCV\n",
    "from sklearn.pipeline import Pipeline\n",
    "from sklearn.metrics import confusion_matrix\n",
    "from sklearn.metrics import accuracy_score\n",
    "from wordcloud import WordCloud\n",
    "\n",
    "import seaborn as sns\n",
    "import matplotlib.pyplot as plt\n",
    "import re\n",
    "import pandas as pd\n",
    "import joblib\n",
    "import numpy as np\n",
    "import xgboost as xgb\n"
   ]
  },
  {
   "cell_type": "code",
   "execution_count": null,
   "metadata": {},
   "outputs": [],
   "source": [
    "dataset_dir = 'sentiment140'\n",
    "# dataset_dir = 'imdb'\n",
    "# dataset_dir = 'coronaNLP'\n",
    "\n",
    "n_gram = (1, 2)\n",
    "\n",
    "# importing the processed dataframe\n",
    "df = joblib.load(f'../dataframes/df_{dataset_dir}.pkl')\n",
    "\n",
    "df.head()\n"
   ]
  },
  {
   "cell_type": "code",
   "execution_count": null,
   "metadata": {},
   "outputs": [],
   "source": [
    "\n",
    "X = df.iloc[:, 0]\n",
    "\n",
    "\n",
    "y = df.iloc[:, 1]\n",
    "\n",
    "X, y\n"
   ]
  },
  {
   "cell_type": "code",
   "execution_count": null,
   "metadata": {},
   "outputs": [],
   "source": [
    "\n",
    "tfidf = joblib.load(\n",
    "    f\"../vectors/vectorizer_{dataset_dir}_{n_gram}.pkl\")\n",
    "tfidf\n"
   ]
  },
  {
   "cell_type": "code",
   "execution_count": null,
   "metadata": {},
   "outputs": [],
   "source": [
    "\n",
    "X = tfidf.transform(X)\n",
    "\n",
    "X_train, X_test, y_train, y_test = train_test_split(\n",
    "    X, y, test_size=0.3, stratify=y, random_state=42)\n",
    "\n",
    "X_train.shape, y_train.shape\n"
   ]
  },
  {
   "cell_type": "code",
   "execution_count": null,
   "metadata": {},
   "outputs": [],
   "source": [
    "estimators = []\n",
    "estimators.append(('MNB', MultinomialNB()))\n",
    "estimators.append(('BNB', BernoulliNB()))\n",
    "estimators.append(('XGB',\n",
    "                  xgb.XGBClassifier(random_state=42, max_depth=50, use_label_encoder=False, learning_rate=0.01)))\n",
    "estimators.append(('SVC', SVC(probability=True)))\n",
    "estimators.append(('LRG', LogisticRegression()))\n"
   ]
  },
  {
   "cell_type": "code",
   "execution_count": null,
   "metadata": {},
   "outputs": [],
   "source": [
    "models = [\n",
    "    MultinomialNB(),\n",
    "    BernoulliNB(),\n",
    "    xgb.XGBClassifier(max_depth=50, use_label_encoder=False),\n",
    "    SVC(probability=True),\n",
    "    LogisticRegression(),\n",
    "    VotingClassifier(estimators = estimators, voting ='hard')\n",
    "]\n",
    "\n",
    "model_to_use = 0\n",
    "\n",
    "model_idx = model_to_use\n"
   ]
  },
  {
   "cell_type": "code",
   "execution_count": null,
   "metadata": {},
   "outputs": [],
   "source": [
    "params = [\n",
    "    {\n",
    "        'fit_prior': (False, True),\n",
    "        'alpha': (1, 0.1, 0.01, 0.001)\n",
    "    }, \n",
    "    {\n",
    "        'fit_prior': (False, True),\n",
    "        'binarize': (0.25, 0.5, 1.0),\n",
    "        'alpha': (1, 0.1, 0.01, 0.001)\n",
    "    },\n",
    "    {\n",
    "        'booster': ('gbtree', 'gblinear', 'dart'),\n",
    "        'eta': (0.1, 0, 25, 0.4, 0.5), \n",
    "    },\n",
    "    {\n",
    "        'C': ('1', '0.5', '0.25'),\n",
    "        'kernel': ('rfb', 'linear', 'poly', 'sigmoid'),\n",
    "    },\n",
    "    {\n",
    "        'penalty': ('l2', 'none'),\n",
    "        'C': np.logspace(-4, 4, 10),\n",
    "        'solver': ('sag', 'saga', 'newton-cg'),\n",
    "        'max_iter': (100, 1000, 2500, 5000)\n",
    "    }\n",
    "]"
   ]
  },
  {
   "cell_type": "code",
   "execution_count": null,
   "metadata": {},
   "outputs": [],
   "source": [
    "clf = models[model_idx]\n",
    "\n",
    "parameters = params[model_idx]\n",
    "\n",
    "clf = GridSearchCV(clf, param_grid=parameters, scoring='accuracy', cv=5, verbose=True) if model_idx != -1 else clf\n",
    "clf\n"
   ]
  },
  {
   "cell_type": "code",
   "execution_count": null,
   "metadata": {},
   "outputs": [],
   "source": [
    "\n",
    "clf = clf.fit(X_train, y_train)\n",
    "clf.best_estimator_\n"
   ]
  },
  {
   "cell_type": "code",
   "execution_count": null,
   "metadata": {},
   "outputs": [],
   "source": [
    "\n",
    "y_pred = clf.predict(X_test)\n",
    "\n",
    "print(classification_report(y_test, y_pred))\n"
   ]
  },
  {
   "cell_type": "code",
   "execution_count": null,
   "metadata": {},
   "outputs": [],
   "source": [
    "\n",
    "print(\"Best: %f using %s\" % (clf.best_score_,\n",
    "                             clf.best_params_))\n",
    "means = clf.cv_results_['mean_test_score']\n",
    "stds = clf.cv_results_['std_test_score']\n",
    "params = clf.cv_results_['params']\n",
    "for mean, stdev, param in zip(means, stds, params):\n",
    "    print(\"%f (%f) with: %r\" % (mean, stdev, param))\n"
   ]
  },
  {
   "cell_type": "code",
   "execution_count": null,
   "metadata": {},
   "outputs": [],
   "source": [
    "print(confusion_matrix(y_test, y_pred))\n",
    "\n",
    "acc = int(accuracy_score(y_test, y_pred)*100)\n"
   ]
  },
  {
   "cell_type": "code",
   "execution_count": null,
   "metadata": {},
   "outputs": [],
   "source": [
    "test_tweet = \"groceri store\"\n",
    "vector = tfidf.transform([test_tweet])\n",
    "\n",
    "print(clf.predict(vector))\n"
   ]
  },
  {
   "cell_type": "code",
   "execution_count": null,
   "metadata": {},
   "outputs": [],
   "source": [
    "\n",
    "# exporting the pipeline\n",
    "joblib.dump(clf.best_estimator_,\n",
    "            f'../models/mnb_{dataset_dir}_{acc}_{n_gram}.pkl')\n"
   ]
  }
 ],
 "metadata": {
  "interpreter": {
   "hash": "599e51aa143538ccec1c7ab4b528efe64565e20e387dbc49eb00bf436cfb223b"
  },
  "kernelspec": {
   "display_name": "Python 3.7.0 64-bit",
   "language": "python",
   "name": "python3"
  },
  "language_info": {
   "codemirror_mode": {
    "name": "ipython",
    "version": 3
   },
   "file_extension": ".py",
   "mimetype": "text/x-python",
   "name": "python",
   "nbconvert_exporter": "python",
   "pygments_lexer": "ipython3",
   "version": "3.7.0"
  },
  "orig_nbformat": 4
 },
 "nbformat": 4,
 "nbformat_minor": 2
}
